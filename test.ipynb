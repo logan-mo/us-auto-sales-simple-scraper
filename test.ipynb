{
 "cells": [
  {
   "cell_type": "code",
   "execution_count": null,
   "metadata": {},
   "outputs": [],
   "source": [
    "from bs4 import BeautifulSoup\n",
    "from bs4.element import Comment\n",
    "import urllib.request\n",
    "\n",
    "\n",
    "def tag_visible(element):\n",
    "    if element.parent.name in ['style', 'script', 'head', 'title', 'meta', '[document]']:\n",
    "        return False\n",
    "    if isinstance(element, Comment):\n",
    "        return False\n",
    "    return True\n",
    "\n",
    "\n",
    "def text_from_html(body):\n",
    "    soup = BeautifulSoup(body, 'html.parser')\n",
    "    texts = soup.findAll(text=True)\n",
    "    visible_texts = filter(tag_visible, texts)  \n",
    "    return u\" \".join(t.strip() for t in visible_texts)\n",
    "\n",
    "html = urllib.request.urlopen('https://www.unlimitedautosales.com/').read()\n",
    "print(text_from_html(html))"
   ]
  },
  {
   "cell_type": "code",
   "execution_count": null,
   "metadata": {},
   "outputs": [],
   "source": [
    "import requests\n",
    "from bs4 import BeautifulSoup\n",
    "\n",
    "# URL of the web page you want to extract HTML from\n",
    "url = 'https://www.unlimitedautomd.com/'\n",
    "\n",
    "# Make an HTTP GET request to fetch the raw HTML content\n",
    "response = requests.get(url)\n",
    "\n",
    "# Check if the request was successful\n",
    "if response.status_code == 200:\n",
    "    # Extract the content\n",
    "    html_content = response.text\n",
    "    \n",
    "    # Print the raw HTML content\n",
    "    print(html_content)\n",
    "    \n",
    "    # Alternatively, parse the HTML content using BeautifulSoup\n",
    "    soup = BeautifulSoup(html_content, 'html.parser')\n",
    "    \n",
    "    # Get pretty printed version of the HTML\n",
    "    pretty_html = soup.prettify()\n",
    "    \n",
    "    # Print pretty HTML\n",
    "    print(pretty_html)\n",
    "else:\n",
    "    print(f\"Failed to retrieve the webpage. Status code: {response.status_code}\")\n",
    "\n"
   ]
  },
  {
   "cell_type": "code",
   "execution_count": 1,
   "metadata": {},
   "outputs": [
    {
     "name": "stdout",
     "output_type": "stream",
     "text": [
      "<html><head><title>unlimitedautosales.com</title><style>#cmsg{animation: A 1.5s;}@keyframes A{0%{opacity:0;}99%{opacity:0;}100%{opacity:1;}}</style><meta name=\"viewport\" content=\"width=device-width, initial-scale=1.0\"></head><body style=\"margin:0\"><script data-cfasync=\"false\">var dd={'rt':'c','cid':'AHrlqAAAAAMATHnKh8M5gF0AJyGEHw==','hsh':'78E75958F5D8D06268C14F1B1AAB5B','t':'fe','s':20084,'e':'ef886816bdbf15180c3796f9813e83c23b59eec553cda8438ca37e5ff5cb4da8','host':'geo.captcha-delivery.com'}</script><script data-cfasync=\"false\" src=\"https://ct.captcha-delivery.com/c.js\"></script><iframe src=\"https://geo.captcha-delivery.com/captcha/?initialCid=AHrlqAAAAAMATHnKh8M5gF0AJyGEHw%3D%3D&amp;hash=78E75958F5D8D06268C14F1B1AAB5B&amp;cid=PpcrDAtZQ4g4k2Vpgv9RAcF3baDHbeINMjP7hMSk86a~BS9fSSlrZ2OP_lwhNMvJSg06fCcNn8KCpjJyUE6fV~05w14WLlS80Mdh0AlYkVt4BASTlLwng7xBk9jySGem&amp;t=fe&amp;referer=https%3A%2F%2Fwww.unlimitedautosales.com%2F&amp;s=20084&amp;e=ef886816bdbf15180c3796f9813e83c23b59eec553cda8438ca37e5ff5cb4da8&amp;dm=cd\" sandbox=\"allow-scripts allow-same-origin allow-forms\" width=\"100%\" height=\"100%\" style=\"height:100vh;\" frameborder=\"0\" border=\"0\" scrolling=\"yes\"></iframe></body></html>\n"
     ]
    }
   ],
   "source": [
    "import time\n",
    "from selenium import webdriver\n",
    "from selenium.webdriver.chrome.options import Options\n",
    "\n",
    "# Create a new Chrome WebDriver instance\n",
    "driver = webdriver.Chrome()\n",
    "driver.maximize_window()\n",
    "\n",
    "# Navigate to a website\n",
    "driver.get(\"https://www.unlimitedautosales.com/\")\n",
    "\n",
    "time.sleep(5)\n",
    "\n",
    "# Get the html page source of the current page\n",
    "page_source = driver.execute_script(\"return document.documentElement.outerHTML;\")\n",
    " \n",
    "# Print the page source\n",
    "print(page_source)\n",
    " \n",
    "fileToWrite = open(\"page_source.html\", \"w\")\n",
    "fileToWrite.write(page_source)\n",
    "fileToWrite.close()\n",
    "# Close the browser window\n",
    "driver.quit()"
   ]
  },
  {
   "cell_type": "code",
   "execution_count": null,
   "metadata": {},
   "outputs": [],
   "source": [
    "print(text_from_html(page_source))"
   ]
  },
  {
   "cell_type": "code",
   "execution_count": null,
   "metadata": {},
   "outputs": [],
   "source": []
  }
 ],
 "metadata": {
  "kernelspec": {
   "display_name": ".venv",
   "language": "python",
   "name": "python3"
  },
  "language_info": {
   "codemirror_mode": {
    "name": "ipython",
    "version": 3
   },
   "file_extension": ".py",
   "mimetype": "text/x-python",
   "name": "python",
   "nbconvert_exporter": "python",
   "pygments_lexer": "ipython3",
   "version": "3.10.11"
  }
 },
 "nbformat": 4,
 "nbformat_minor": 2
}
